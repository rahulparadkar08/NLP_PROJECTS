{
 "cells": [
  {
   "cell_type": "code",
   "execution_count": null,
   "id": "14803238",
   "metadata": {},
   "outputs": [],
   "source": [
    "# Importing necessary libraries\n",
    "import numpy as np\n",
    "import pandas as pd\n",
    "from sklearn.model_selection import train_test_split\n",
    "from sklearn.feature_extraction.text import CountVectorizer\n",
    "from sklearn.linear_model import LogisticRegression\n",
    "from sklearn.metrics import accuracy_score, precision_score, recall_score, f1_score\n",
    "from sklearn.preprocessing import LabelEncoder\n",
    "import re\n",
    "import urllib.request\n",
    "import tarfile\n",
    "import os"
   ]
  },
  {
   "cell_type": "code",
   "execution_count": 5,
   "id": "b6550c70",
   "metadata": {},
   "outputs": [
    {
     "data": {
      "text/plain": [
       "('aclImdb_v1.tar.gz', <http.client.HTTPMessage at 0x250a0ba37f0>)"
      ]
     },
     "execution_count": 5,
     "metadata": {},
     "output_type": "execute_result"
    }
   ],
   "source": [
    "# Step 1: Data Collection\n",
    "# Download the IMDb dataset from the URL and extract it\n",
    "url = 'https://ai.stanford.edu/~amaas/data/sentiment/aclImdb_v1.tar.gz'\n",
    "urllib.request.urlretrieve(url, 'aclImdb_v1.tar.gz')"
   ]
  },
  {
   "cell_type": "code",
   "execution_count": 6,
   "id": "e1126545",
   "metadata": {},
   "outputs": [],
   "source": [
    "# Extract the downloaded tar file\n",
    "with tarfile.open('aclImdb_v1.tar.gz', 'r:gz') as tar:\n",
    "    tar.extractall(path='aclImdb')"
   ]
  },
  {
   "cell_type": "code",
   "execution_count": 14,
   "id": "ac7dea40",
   "metadata": {},
   "outputs": [
    {
     "name": "stdout",
     "output_type": "stream",
     "text": [
      "Loading from: aclImdb/train\\pos\n",
      "Loading from: aclImdb/train\\neg\n"
     ]
    }
   ],
   "source": [
    "def load_imdb_data(directory):\n",
    "    data = []\n",
    "    for label in ['pos', 'neg']:\n",
    "        labeled_dir = os.path.join(directory, label)\n",
    "        print(f\"Loading from: {labeled_dir}\")  # Debugging line\n",
    "        try:\n",
    "            for filename in os.listdir(labeled_dir):\n",
    "                if filename.endswith('.txt'):\n",
    "                    with open(os.path.join(labeled_dir, filename), 'r', encoding='utf-8') as file:\n",
    "                        review = file.read()\n",
    "                        data.append((review, label))\n",
    "        except FileNotFoundError as e:\n",
    "            print(e)  # Print the error to understand what's wrong\n",
    "    return pd.DataFrame(data, columns=['review', 'sentiment'])\n",
    "\n",
    "# Load training data\n",
    "train_data = load_imdb_data('aclImdb/train')\n"
   ]
  },
  {
   "cell_type": "code",
   "execution_count": 15,
   "id": "d114a494",
   "metadata": {},
   "outputs": [],
   "source": [
    "# Step 2: Data Preprocessing\n",
    "# Function to clean and preprocess the review text\n",
    "def preprocess_text(text):\n",
    "    # Remove special characters and punctuation\n",
    "    text = re.sub(r'\\W', ' ', text)\n",
    "    # Convert text to lowercase\n",
    "    text = text.lower()\n",
    "    # Remove single characters\n",
    "    text = re.sub(r'\\s+[a-zA-Z]\\s+', ' ', text)\n",
    "    # Remove multiple spaces\n",
    "    text = re.sub(r'\\s+', ' ', text)\n",
    "    return text\n",
    "\n",
    "# Apply the preprocessing function to the review data\n",
    "train_data['cleaned_review'] = train_data['review'].apply(preprocess_text)\n"
   ]
  },
  {
   "cell_type": "code",
   "execution_count": 16,
   "id": "613e7614",
   "metadata": {},
   "outputs": [],
   "source": [
    "# Step 3: Vocabulary Creation\n",
    "# Use CountVectorizer to create a Bag of Words model for the reviews\n",
    "# This converts the text into a matrix of token counts\n",
    "vectorizer = CountVectorizer(max_features=5000)  # Limiting to the top 5000 words\n",
    "X = vectorizer.fit_transform(train_data['cleaned_review']).toarray()\n"
   ]
  },
  {
   "cell_type": "code",
   "execution_count": 17,
   "id": "fb1d5a32",
   "metadata": {},
   "outputs": [],
   "source": [
    "# Step 4: Feature Extraction and Encoding\n",
    "# Encode sentiment labels into binary values: 1 for positive and 0 for negative\n",
    "y = LabelEncoder().fit_transform(train_data['sentiment'])  # 'pos' -> 1, 'neg' -> 0\n"
   ]
  },
  {
   "cell_type": "code",
   "execution_count": 18,
   "id": "6f8924df",
   "metadata": {},
   "outputs": [],
   "source": [
    "# Step 5: Train Test Split\n",
    "# Split the dataset into training and testing sets (80% train, 20% test)\n",
    "X_train, X_test, y_train, y_test = train_test_split(X, y, test_size=0.2, random_state=0)\n"
   ]
  },
  {
   "cell_type": "code",
   "execution_count": 19,
   "id": "2d1aa2a1",
   "metadata": {},
   "outputs": [
    {
     "name": "stderr",
     "output_type": "stream",
     "text": [
      "C:\\Users\\Rahul Paradkar\\anaconda3\\lib\\site-packages\\sklearn\\linear_model\\_logistic.py:814: ConvergenceWarning: lbfgs failed to converge (status=1):\n",
      "STOP: TOTAL NO. of ITERATIONS REACHED LIMIT.\n",
      "\n",
      "Increase the number of iterations (max_iter) or scale the data as shown in:\n",
      "    https://scikit-learn.org/stable/modules/preprocessing.html\n",
      "Please also refer to the documentation for alternative solver options:\n",
      "    https://scikit-learn.org/stable/modules/linear_model.html#logistic-regression\n",
      "  n_iter_i = _check_optimize_result(\n"
     ]
    },
    {
     "data": {
      "text/plain": [
       "LogisticRegression()"
      ]
     },
     "execution_count": 19,
     "metadata": {},
     "output_type": "execute_result"
    }
   ],
   "source": [
    "# Step 6: Train Logistic Regression Model\n",
    "# Initialize and train a Logistic Regression model on the training data\n",
    "model = LogisticRegression()\n",
    "model.fit(X_train, y_train)\n"
   ]
  },
  {
   "cell_type": "code",
   "execution_count": 21,
   "id": "c80a42cf",
   "metadata": {},
   "outputs": [
    {
     "name": "stdout",
     "output_type": "stream",
     "text": [
      "Accuracy: 0.8702\n",
      "Precision: 0.8625834314880251\n",
      "Recall: 0.8802083333333334\n",
      "F1-Score: 0.8713067618481063\n"
     ]
    }
   ],
   "source": [
    "# Step 7: Model Evaluation\n",
    "# Predict the sentiments on the test set\n",
    "y_pred = model.predict(X_test)\n",
    "\n",
    "# Evaluate the performance using accuracy, precision, recall, and F1-score\n",
    "print(f\"Accuracy: {accuracy_score(y_test, y_pred)}\")\n",
    "print(f\"Precision: {precision_score(y_test, y_pred)}\")\n",
    "print(f\"Recall: {recall_score(y_test, y_pred)}\")\n",
    "print(f\"F1-Score: {f1_score(y_test, y_pred)}\")\n"
   ]
  },
  {
   "cell_type": "code",
   "execution_count": 22,
   "id": "13094a69",
   "metadata": {},
   "outputs": [
    {
     "name": "stdout",
     "output_type": "stream",
     "text": [
      "Positive\n"
     ]
    }
   ],
   "source": [
    "# Step 8: Custom Prediction Function\n",
    "# Function to predict the sentiment of a custom review\n",
    "def predict_sentiment(review):\n",
    "    # Preprocess the review\n",
    "    review = preprocess_text(review)\n",
    "    # Convert the review to a vector using the trained vectorizer\n",
    "    review_vector = vectorizer.transform([review]).toarray()\n",
    "    # Predict the sentiment using the trained model\n",
    "    prediction = model.predict(review_vector)\n",
    "    return 'Positive' if prediction == 1 else 'Negative'\n",
    "\n",
    "# Example: Test custom review\n",
    "print(predict_sentiment(\"The movie was fantastic!\"))\n",
    "\n",
    "# You can replace the above review with any custom input to test the prediction function.\n"
   ]
  },
  {
   "cell_type": "code",
   "execution_count": 23,
   "id": "d1fb9aa7",
   "metadata": {},
   "outputs": [
    {
     "data": {
      "image/png": "[encoded data removed]",
      "text/plain": [
       "<Figure size 640x480 with 2 Axes>"
      ]
     },
     "metadata": {},
     "output_type": "display_data"
    }
   ],
   "source": [
    "import matplotlib.pyplot as plt\n",
    "import seaborn as sns\n",
    "from sklearn.metrics import confusion_matrix\n",
    "\n",
    "# Confusion matrix\n",
    "cm = confusion_matrix(y_test, y_pred)\n",
    "sns.heatmap(cm, annot=True, fmt='d')\n",
    "plt.title('Confusion Matrix')\n",
    "plt.ylabel('Actual')\n",
    "plt.xlabel('Predicted')\n",
    "plt.show()\n"
   ]
  }
 ],
 "metadata": {
  "kernelspec": {
   "display_name": "Python 3 (ipykernel)",
   "language": "python",
   "name": "python3"
  },
  "language_info": {
   "codemirror_mode": {
    "name": "ipython",
    "version": 3
   },
   "file_extension": ".py",
   "mimetype": "text/x-python",
   "name": "python",
   "nbconvert_exporter": "python",
   "pygments_lexer": "ipython3",
   "version": "3.9.13"
  }
 },
 "nbformat": 4,
 "nbformat_minor": 5
}
